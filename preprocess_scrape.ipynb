{
 "cells": [
  {
   "cell_type": "code",
   "execution_count": 83,
   "metadata": {},
   "outputs": [],
   "source": [
    "import pandas as pd"
   ]
  },
  {
   "cell_type": "code",
   "execution_count": 85,
   "metadata": {},
   "outputs": [],
   "source": [
    "df=pd.read_csv('intel_data.csv')"
   ]
  },
  {
   "cell_type": "code",
   "execution_count": 71,
   "metadata": {},
   "outputs": [
    {
     "data": {
      "text/html": [
       "<div>\n",
       "<style scoped>\n",
       "    .dataframe tbody tr th:only-of-type {\n",
       "        vertical-align: middle;\n",
       "    }\n",
       "\n",
       "    .dataframe tbody tr th {\n",
       "        vertical-align: top;\n",
       "    }\n",
       "\n",
       "    .dataframe thead th {\n",
       "        text-align: right;\n",
       "    }\n",
       "</style>\n",
       "<table border=\"1\" class=\"dataframe\">\n",
       "  <thead>\n",
       "    <tr style=\"text-align: right;\">\n",
       "      <th></th>\n",
       "      <th>Unnamed: 0</th>\n",
       "      <th>Date</th>\n",
       "      <th>PercentageChange</th>\n",
       "      <th>snippet</th>\n",
       "      <th>publishedAt</th>\n",
       "      <th>headline</th>\n",
       "    </tr>\n",
       "  </thead>\n",
       "  <tbody>\n",
       "    <tr>\n",
       "      <th>0</th>\n",
       "      <td>0</td>\n",
       "      <td>2010-07-02</td>\n",
       "      <td>{'Open': -13.04, 'Close': -16.09, 'High': -13.42}</td>\n",
       "      <td>Shares of Tesla Motors sank Thursday as the fe...</td>\n",
       "      <td>2010-07-02</td>\n",
       "      <td>Tesla Shares Sink as I.P.O. Excitement Wanes</td>\n",
       "    </tr>\n",
       "    <tr>\n",
       "      <th>1</th>\n",
       "      <td>1</td>\n",
       "      <td>2010-07-07</td>\n",
       "      <td>{'Open': -1.59, 'Close': 10.51, 'High': 5.35}</td>\n",
       "      <td>Shares of the high-end electric carmaker Tesla...</td>\n",
       "      <td>2010-07-07</td>\n",
       "      <td>Tesla Motors Shares Drop Below Initial Sale Price</td>\n",
       "    </tr>\n",
       "    <tr>\n",
       "      <th>2</th>\n",
       "      <td>2</td>\n",
       "      <td>2010-07-09</td>\n",
       "      <td>{'Open': 2.1, 'Close': -2.01, 'High': 0.95}</td>\n",
       "      <td>Mercedes may produce an electric version of it...</td>\n",
       "      <td>2010-07-09</td>\n",
       "      <td>Tesla May Get Some Company: The Supercar Goes ...</td>\n",
       "    </tr>\n",
       "    <tr>\n",
       "      <th>3</th>\n",
       "      <td>3</td>\n",
       "      <td>2010-07-13</td>\n",
       "      <td>{'Open': 3.16, 'Close': 9.37, 'High': 8.1}</td>\n",
       "      <td>A few months after their much-publicized partn...</td>\n",
       "      <td>2010-07-13</td>\n",
       "      <td>Tesla Says It Is Testing an Electric Car Proto...</td>\n",
       "    </tr>\n",
       "    <tr>\n",
       "      <th>4</th>\n",
       "      <td>4</td>\n",
       "      <td>2010-07-16</td>\n",
       "      <td>{'Open': 3.24, 'Close': 6.15, 'High': 4.46}</td>\n",
       "      <td>Tesla Motors announced Friday that it would co...</td>\n",
       "      <td>2010-07-16</td>\n",
       "      <td>Toyota and Tesla Plan an Electric RAV4</td>\n",
       "    </tr>\n",
       "    <tr>\n",
       "      <th>...</th>\n",
       "      <td>...</td>\n",
       "      <td>...</td>\n",
       "      <td>...</td>\n",
       "      <td>...</td>\n",
       "      <td>...</td>\n",
       "      <td>...</td>\n",
       "    </tr>\n",
       "    <tr>\n",
       "      <th>78</th>\n",
       "      <td>78</td>\n",
       "      <td>2022-10-17</td>\n",
       "      <td>{'Open': 9.26, 'Close': 0.38, 'High': 3.59}</td>\n",
       "      <td>The British pound and government bonds rose af...</td>\n",
       "      <td>2022-10-17</td>\n",
       "      <td>Markets Approve of U.K.’s Reversal of Tax Cuts</td>\n",
       "    </tr>\n",
       "    <tr>\n",
       "      <th>79</th>\n",
       "      <td>79</td>\n",
       "      <td>2022-10-19</td>\n",
       "      <td>{'Open': -5.24, 'Close': -6.65, 'High': -3.31}</td>\n",
       "      <td>The electric carmaker is growing fast but inve...</td>\n",
       "      <td>2022-10-19</td>\n",
       "      <td>Tesla Reports Strong Profit in Third Quarter o...</td>\n",
       "    </tr>\n",
       "    <tr>\n",
       "      <th>80</th>\n",
       "      <td>80</td>\n",
       "      <td>2022-10-20</td>\n",
       "      <td>{'Open': -0.89, 'Close': 3.45, 'High': -0.41}</td>\n",
       "      <td>Investors sent the electric vehicle maker’s sh...</td>\n",
       "      <td>2022-10-20</td>\n",
       "      <td>Tesla Optimists Are in Retreat</td>\n",
       "    </tr>\n",
       "    <tr>\n",
       "      <th>81</th>\n",
       "      <td>81</td>\n",
       "      <td>2022-10-24</td>\n",
       "      <td>{'Open': 2.08, 'Close': 5.29, 'High': 5.08}</td>\n",
       "      <td>Shares of the company slumped as investors wor...</td>\n",
       "      <td>2022-10-24</td>\n",
       "      <td>Tesla Cuts Prices in China in Sign of Slowing ...</td>\n",
       "    </tr>\n",
       "    <tr>\n",
       "      <th>82</th>\n",
       "      <td>82</td>\n",
       "      <td>2022-10-26</td>\n",
       "      <td>{'Open': 4.73, 'Close': 0.2, 'High': 1.39}</td>\n",
       "      <td>The world’s richest man has inserted himself i...</td>\n",
       "      <td>2022-10-26</td>\n",
       "      <td>How Elon Musk Became a Geopolitical Chaos Agent</td>\n",
       "    </tr>\n",
       "  </tbody>\n",
       "</table>\n",
       "<p>83 rows × 6 columns</p>\n",
       "</div>"
      ],
      "text/plain": [
       "    Unnamed: 0        Date                                   PercentageChange  \\\n",
       "0            0  2010-07-02  {'Open': -13.04, 'Close': -16.09, 'High': -13.42}   \n",
       "1            1  2010-07-07      {'Open': -1.59, 'Close': 10.51, 'High': 5.35}   \n",
       "2            2  2010-07-09        {'Open': 2.1, 'Close': -2.01, 'High': 0.95}   \n",
       "3            3  2010-07-13         {'Open': 3.16, 'Close': 9.37, 'High': 8.1}   \n",
       "4            4  2010-07-16        {'Open': 3.24, 'Close': 6.15, 'High': 4.46}   \n",
       "..         ...         ...                                                ...   \n",
       "78          78  2022-10-17        {'Open': 9.26, 'Close': 0.38, 'High': 3.59}   \n",
       "79          79  2022-10-19     {'Open': -5.24, 'Close': -6.65, 'High': -3.31}   \n",
       "80          80  2022-10-20      {'Open': -0.89, 'Close': 3.45, 'High': -0.41}   \n",
       "81          81  2022-10-24        {'Open': 2.08, 'Close': 5.29, 'High': 5.08}   \n",
       "82          82  2022-10-26         {'Open': 4.73, 'Close': 0.2, 'High': 1.39}   \n",
       "\n",
       "                                              snippet publishedAt  \\\n",
       "0   Shares of Tesla Motors sank Thursday as the fe...  2010-07-02   \n",
       "1   Shares of the high-end electric carmaker Tesla...  2010-07-07   \n",
       "2   Mercedes may produce an electric version of it...  2010-07-09   \n",
       "3   A few months after their much-publicized partn...  2010-07-13   \n",
       "4   Tesla Motors announced Friday that it would co...  2010-07-16   \n",
       "..                                                ...         ...   \n",
       "78  The British pound and government bonds rose af...  2022-10-17   \n",
       "79  The electric carmaker is growing fast but inve...  2022-10-19   \n",
       "80  Investors sent the electric vehicle maker’s sh...  2022-10-20   \n",
       "81  Shares of the company slumped as investors wor...  2022-10-24   \n",
       "82  The world’s richest man has inserted himself i...  2022-10-26   \n",
       "\n",
       "                                             headline  \n",
       "0        Tesla Shares Sink as I.P.O. Excitement Wanes  \n",
       "1   Tesla Motors Shares Drop Below Initial Sale Price  \n",
       "2   Tesla May Get Some Company: The Supercar Goes ...  \n",
       "3   Tesla Says It Is Testing an Electric Car Proto...  \n",
       "4              Toyota and Tesla Plan an Electric RAV4  \n",
       "..                                                ...  \n",
       "78     Markets Approve of U.K.’s Reversal of Tax Cuts  \n",
       "79  Tesla Reports Strong Profit in Third Quarter o...  \n",
       "80                     Tesla Optimists Are in Retreat  \n",
       "81  Tesla Cuts Prices in China in Sign of Slowing ...  \n",
       "82    How Elon Musk Became a Geopolitical Chaos Agent  \n",
       "\n",
       "[83 rows x 6 columns]"
      ]
     },
     "execution_count": 71,
     "metadata": {},
     "output_type": "execute_result"
    }
   ],
   "source": [
    "df"
   ]
  },
  {
   "cell_type": "code",
   "execution_count": 86,
   "metadata": {},
   "outputs": [],
   "source": [
    "df.drop(['Unnamed: 0'],axis=1,inplace=True)"
   ]
  },
  {
   "cell_type": "code",
   "execution_count": 87,
   "metadata": {},
   "outputs": [],
   "source": [
    "import ast\n",
    "\n",
    "data_str = \"{'Open': -1.53, 'Close': -0.64, 'High': -2.18}\"\n",
    "data_dict = ast.literal_eval(data_str)"
   ]
  },
  {
   "cell_type": "code",
   "execution_count": 88,
   "metadata": {},
   "outputs": [
    {
     "data": {
      "text/plain": [
       "{'Open': -1.53, 'Close': -0.64, 'High': -2.18}"
      ]
     },
     "execution_count": 88,
     "metadata": {},
     "output_type": "execute_result"
    }
   ],
   "source": [
    "data_dict"
   ]
  },
  {
   "cell_type": "code",
   "execution_count": 89,
   "metadata": {},
   "outputs": [],
   "source": [
    "for i,f in df.iterrows():\n",
    "    di=f['PercentageChange']\n",
    "    di=ast.literal_eval(di)\n",
    "    df.at[i, 'Open'] = di['Open']\n",
    "    df.at[i, 'Close'] = di['Close']\n",
    "    df.at[i, 'High'] = di['High']"
   ]
  },
  {
   "cell_type": "code",
   "execution_count": 90,
   "metadata": {},
   "outputs": [],
   "source": [
    "df.drop(['PercentageChange'],axis=1,inplace=True)"
   ]
  },
  {
   "cell_type": "code",
   "execution_count": 91,
   "metadata": {},
   "outputs": [],
   "source": [
    "df.drop(['Date'],axis=1,inplace=True)"
   ]
  },
  {
   "cell_type": "code",
   "execution_count": 92,
   "metadata": {},
   "outputs": [],
   "source": [
    " # Example thresholds for Close\n",
    "\n",
    "def label_from_threshold(value):\n",
    "    thresholds= [-0.5, 0.5, 1.0]\n",
    "    if value > thresholds[2]:\n",
    "        return \"Very Good\"\n",
    "    elif thresholds[1] < value <= thresholds[2]:\n",
    "        return \"Good\"\n",
    "    elif thresholds[0] < value <= thresholds[1]:\n",
    "        return \"Bad\"\n",
    "    elif thresholds[0] < value:\n",
    "        return \"Very Bad\"\n",
    "    else:\n",
    "        return 'Moderate'"
   ]
  },
  {
   "cell_type": "code",
   "execution_count": 93,
   "metadata": {},
   "outputs": [],
   "source": [
    "for i,f in df.iterrows():\n",
    "    d=f['High']\n",
    "    df.at[i, 'High Feed'] = label_from_threshold(d)\n",
    "    c=f['Open']\n",
    "    df.at[i, 'Open Feed'] = label_from_threshold(c)\n",
    "    e=f['Close']\n",
    "    df.at[i, 'Close Feed'] = label_from_threshold(e)\n",
    "    "
   ]
  },
  {
   "cell_type": "code",
   "execution_count": 94,
   "metadata": {},
   "outputs": [],
   "source": [
    "df.to_csv('intel_data_modified.csv')"
   ]
  },
  {
   "cell_type": "code",
   "execution_count": 96,
   "metadata": {},
   "outputs": [],
   "source": [
    "df2 = pd.concat([df['headline'], df['Open Feed']], axis=1)"
   ]
  },
  {
   "cell_type": "code",
   "execution_count": 97,
   "metadata": {},
   "outputs": [],
   "source": [
    "df2.to_csv('end_intel_2.csv')"
   ]
  },
  {
   "cell_type": "code",
   "execution_count": null,
   "metadata": {},
   "outputs": [],
   "source": []
  }
 ],
 "metadata": {
  "kernelspec": {
   "display_name": "Python 3",
   "language": "python",
   "name": "python3"
  },
  "language_info": {
   "codemirror_mode": {
    "name": "ipython",
    "version": 3
   },
   "file_extension": ".py",
   "mimetype": "text/x-python",
   "name": "python",
   "nbconvert_exporter": "python",
   "pygments_lexer": "ipython3",
   "version": "3.10.7"
  },
  "orig_nbformat": 4
 },
 "nbformat": 4,
 "nbformat_minor": 2
}
