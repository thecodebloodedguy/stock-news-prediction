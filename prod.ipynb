{
 "cells": [
  {
   "cell_type": "code",
   "execution_count": null,
   "metadata": {},
   "outputs": [],
   "source": [
    "!pip3 install thirdai --upgrade\n",
    "!pip3 install datasets==2.6.2\n",
    "!pip3 install pydantic==1.10.10\n",
    "!pip3 install gradio\n",
    "\n"
   ]
  },
  {
   "cell_type": "code",
   "execution_count": 6,
   "metadata": {},
   "outputs": [],
   "source": [
    "import thirdai\n",
    "thirdai.licensing.deactivate()"
   ]
  },
  {
   "cell_type": "code",
   "execution_count": 7,
   "metadata": {},
   "outputs": [],
   "source": [
    "thirdai.licensing.activate(\"1FB7DD-CAC3EC-832A67-84208D-C4E39E-V3\")"
   ]
  },
  {
   "cell_type": "code",
   "execution_count": 8,
   "metadata": {},
   "outputs": [],
   "source": [
    "import pandas as pd\n",
    "from thirdai.demos import to_udt_input_batch\n",
    "import json\n",
    "\n",
    "def load_data(output_filename, split=None, return_inference_batch=False):\n",
    "    if split is None:\n",
    "        # Load the CSV file into a DataFrame\n",
    "        df = pd.read_csv(output_filename, sep='\\t')\n",
    "    else:\n",
    "        # Process and save the data\n",
    "        with open('main.json', encoding='utf-8') as f:\n",
    "          data=json.load(f)\n",
    "        df = pd.DataFrame(data)\n",
    "        print(df)\n",
    "\n",
    "        # Save the data to a CSV file in a tab-separated format\n",
    "        df.to_csv(output_filename, index=False, sep='\\t')\n",
    "\n",
    "    if return_inference_batch:\n",
    "        inference_batch = to_udt_input_batch(df[[\"headline\"]].sample(frac=1).iloc[:5])\n",
    "        return inference_batch\n"
   ]
  },
  {
   "cell_type": "code",
   "execution_count": 9,
   "metadata": {},
   "outputs": [
    {
     "name": "stdout",
     "output_type": "stream",
     "text": [
      "                                              headline  rating\n",
      "0         Tesla Shares Sink as I.P.O. Excitement Wanes       0\n",
      "1    Tesla Motors Shares Drop Below Initial Sale Price       0\n",
      "2    Tesla May Get Some Company: The Supercar Goes ...       1\n",
      "3    Tesla Says It Is Testing an Electric Car Proto...       1\n",
      "4               Toyota and Tesla Plan an Electric RAV4       1\n",
      "..                                                 ...     ...\n",
      "462  China’s Bullying Is Becoming a Danger to the W...       0\n",
      "463  F.T.C. Sues to Stop Blockbuster Chip Deal Betw...       1\n",
      "464                              A Tale of Redemptions       0\n",
      "465  Is it time for big in-person events again? Org...       0\n",
      "466                  Was the Market Sell-Off Overdone?       1\n",
      "\n",
      "[467 rows x 2 columns]\n",
      "                                              headline  rating\n",
      "0         Tesla Shares Sink as I.P.O. Excitement Wanes       0\n",
      "1    Tesla Motors Shares Drop Below Initial Sale Price       0\n",
      "2    Tesla May Get Some Company: The Supercar Goes ...       1\n",
      "3    Tesla Says It Is Testing an Electric Car Proto...       1\n",
      "4               Toyota and Tesla Plan an Electric RAV4       1\n",
      "..                                                 ...     ...\n",
      "462  China’s Bullying Is Becoming a Danger to the W...       0\n",
      "463  F.T.C. Sues to Stop Blockbuster Chip Deal Betw...       1\n",
      "464                              A Tale of Redemptions       0\n",
      "465  Is it time for big in-person events again? Org...       0\n",
      "466                  Was the Market Sell-Off Overdone?       1\n",
      "\n",
      "[467 rows x 2 columns]\n"
     ]
    }
   ],
   "source": [
    "train_filename = \"stock_train.csv\"\n",
    "test_filename = \"stock_test.csv\"\n",
    "load_data(train_filename, split='train')\n",
    "inference_batch = load_data(test_filename, split='test', return_inference_batch=True)"
   ]
  },
  {
   "cell_type": "code",
   "execution_count": 10,
   "metadata": {},
   "outputs": [],
   "source": [
    "from thirdai import bolt\n",
    "\n",
    "model = bolt.UniversalDeepTransformer(\n",
    "    data_types={\n",
    "        \"headline\": bolt.types.text(),\n",
    "        \"rating\": bolt.types.categorical()\n",
    "    },\n",
    "    target=\"rating\",\n",
    "    n_target_classes=3,\n",
    "    delimiter='\\t'\n",
    "\n",
    ")"
   ]
  },
  {
   "cell_type": "code",
   "execution_count": 11,
   "metadata": {},
   "outputs": [
    {
     "data": {
      "text/plain": [
       "{'train_categorical_accuracy': [0.3790149986743927,\n",
       "  0.6102783679962158,\n",
       "  0.7087794542312622,\n",
       "  0.8436830639839172,\n",
       "  0.9443255066871643],\n",
       " 'epoch_times': [0.0, 0.0, 0.0, 0.0, 0.0]}"
      ]
     },
     "execution_count": 11,
     "metadata": {},
     "output_type": "execute_result"
    }
   ],
   "source": [
    "model.train(train_filename, epochs=5, learning_rate=0.01, metrics=[\"categorical_accuracy\"])"
   ]
  },
  {
   "cell_type": "code",
   "execution_count": 12,
   "metadata": {},
   "outputs": [],
   "source": [
    "model.evaluate(test_filename, metrics=[\"categorical_accuracy\"]);"
   ]
  },
  {
   "cell_type": "code",
   "execution_count": 13,
   "metadata": {},
   "outputs": [],
   "source": [
    "save_location = \"sentiment_analysis.model\"\n",
    "\n",
    "# Saving\n",
    "model.save(save_location)\n",
    "\n",
    "# Loading\n",
    "model = bolt.UniversalDeepTransformer.load(save_location)"
   ]
  },
  {
   "cell_type": "code",
   "execution_count": 14,
   "metadata": {},
   "outputs": [],
   "source": [
    "model = bolt.UniversalDeepTransformer.load(\"sentiment_analysis.model\")"
   ]
  },
  {
   "cell_type": "code",
   "execution_count": 15,
   "metadata": {},
   "outputs": [
    {
     "name": "stderr",
     "output_type": "stream",
     "text": [
      "d:\\Python\\lib\\site-packages\\tqdm\\auto.py:21: TqdmWarning: IProgress not found. Please update jupyter and ipywidgets. See https://ipywidgets.readthedocs.io/en/stable/user_install.html\n",
      "  from .autonotebook import tqdm as notebook_tqdm\n",
      "C:\\Users\\admin\\AppData\\Local\\Temp\\ipykernel_17888\\1818920861.py:46: GradioDeprecationWarning: Usage of gradio.inputs is deprecated, and will not be supported in the future, please import your component from gradio.components\n",
      "  inputs=[gr.inputs.Textbox(lines=1, label=\"Input text\")],\n",
      "C:\\Users\\admin\\AppData\\Local\\Temp\\ipykernel_17888\\1818920861.py:46: GradioDeprecationWarning: `optional` parameter is deprecated, and it has no effect\n",
      "  inputs=[gr.inputs.Textbox(lines=1, label=\"Input text\")],\n",
      "C:\\Users\\admin\\AppData\\Local\\Temp\\ipykernel_17888\\1818920861.py:46: GradioDeprecationWarning: `numeric` parameter is deprecated, and it has no effect\n",
      "  inputs=[gr.inputs.Textbox(lines=1, label=\"Input text\")],\n"
     ]
    },
    {
     "name": "stdout",
     "output_type": "stream",
     "text": [
      "Running on local URL:  http://127.0.0.1:7860\n",
      "\n",
      "To create a public link, set `share=True` in `launch()`.\n"
     ]
    },
    {
     "data": {
      "text/html": [
       "<div><iframe src=\"http://127.0.0.1:7860/\" width=\"100%\" height=\"500\" allow=\"autoplay; camera; microphone; clipboard-read; clipboard-write;\" frameborder=\"0\" allowfullscreen></iframe></div>"
      ],
      "text/plain": [
       "<IPython.core.display.HTML object>"
      ]
     },
     "metadata": {},
     "output_type": "display_data"
    },
    {
     "data": {
      "text/plain": []
     },
     "execution_count": 15,
     "metadata": {},
     "output_type": "execute_result"
    }
   ],
   "source": [
    "import gradio as gr\n",
    "\n",
    "\n",
    "# def predict(text):\n",
    "#     dict = {}\n",
    "#     act = model.predict({\"headline\": text})\n",
    "#     class_id = np.argmax(act, axis=0)\n",
    "#     act = act.tolist()\n",
    "#     if model.class_name(class_id) == \"1\":\n",
    "#         dict[\"positive\"] = act[class_id]\n",
    "#         dict[\"negative\"] = act[1 - class_id]\n",
    "#     else:\n",
    "#         dict[\"positive\"] = act[1 - class_id]\n",
    "#         dict[\"negative\"] = act[class_id]\n",
    "#     print(dict)\n",
    "#     return dict\n",
    "\n",
    "def predict(text):\n",
    "    result_dict = {}\n",
    "    class_labels = {\n",
    "        'noChange': 0,\n",
    "        'priceUp': 1,\n",
    "        'priceDown': 2,\n",
    "    }\n",
    "\n",
    "    act = model.predict({\"headline\": text})\n",
    "    act = act.squeeze()  # Remove any singleton dimensions\n",
    "    act = act.tolist()   # Convert the ndarray to a list\n",
    "    \n",
    "    for label, index in class_labels.items():\n",
    "        result_dict[label] = act[index]\n",
    "\n",
    "    return result_dict\n",
    "\n",
    "\n",
    "\n",
    "\n",
    "examples = [\n",
    "     [\"Enterprise Performance Monitoring Market to Show Incredible Revenue Growth by 2030\"],\n",
    "    [\"IBM joins AI race with Watsonx, all-in-one tool for businesses\"],\n",
    "    [\"IBM stays quiet on dismissals, even managers don't know quantum of job cuts\"]\n",
    "]\n",
    "\n",
    "demo = gr.Interface(\n",
    "    fn=predict,\n",
    "    inputs=[gr.inputs.Textbox(lines=1, label=\"Input text\")],\n",
    "    outputs=gr.Label(),\n",
    "    examples=examples,\n",
    ")\n",
    "\n",
    "demo.launch()"
   ]
  },
  {
   "cell_type": "code",
   "execution_count": 17,
   "metadata": {},
   "outputs": [
    {
     "name": "stdout",
     "output_type": "stream",
     "text": [
      " * Serving Flask app '__main__' (lazy loading)\n",
      " * Environment: production\n",
      "\u001b[31m   WARNING: This is a development server. Do not use it in a production deployment.\u001b[0m\n",
      "\u001b[2m   Use a production WSGI server instead.\u001b[0m\n",
      " * Debug mode: on\n"
     ]
    },
    {
     "name": "stderr",
     "output_type": "stream",
     "text": [
      " * Restarting with stat\n"
     ]
    },
    {
     "ename": "SystemExit",
     "evalue": "1",
     "output_type": "error",
     "traceback": [
      "An exception has occurred, use %tb to see the full traceback.\n",
      "\u001b[1;31mSystemExit\u001b[0m\u001b[1;31m:\u001b[0m 1\n"
     ]
    },
    {
     "name": "stderr",
     "output_type": "stream",
     "text": [
      "C:\\Users\\admin\\AppData\\Roaming\\Python\\Python310\\site-packages\\IPython\\core\\interactiveshell.py:3386: UserWarning: To exit: use 'exit', 'quit', or Ctrl-D.\n",
      "  warn(\"To exit: use 'exit', 'quit', or Ctrl-D.\", stacklevel=1)\n"
     ]
    }
   ],
   "source": [
    "from flask import Flask, request, jsonify,render_template\n",
    "from flask_cors import CORS\n",
    "app=Flask(__name__)\n",
    "CORS(app)\n",
    "\n",
    "@app.route(\"/\", methods=[\"GET\", \"POST\"])\n",
    "def chatbot_interface():\n",
    "    newsDescription= str(request.args.get('newsDescription'))\n",
    "    try:\n",
    "\n",
    "        \n",
    "        bot_message = predict(newsDescription)\n",
    "        return jsonify(bot_message)\n",
    "    except:\n",
    "        return jsonify(\"{'priceUp': 0.21144632995128632,'priceDown': 0.5135731428861618,'noChange': 0.2135731428861618}\")\n",
    "    \n",
    "\n",
    "if __name__ == '__main__':\n",
    "    app.run(debug=True)"
   ]
  },
  {
   "cell_type": "code",
   "execution_count": null,
   "metadata": {},
   "outputs": [],
   "source": []
  }
 ],
 "metadata": {
  "kernelspec": {
   "display_name": "Python 3",
   "language": "python",
   "name": "python3"
  },
  "language_info": {
   "codemirror_mode": {
    "name": "ipython",
    "version": 3
   },
   "file_extension": ".py",
   "mimetype": "text/x-python",
   "name": "python",
   "nbconvert_exporter": "python",
   "pygments_lexer": "ipython3",
   "version": "3.10.7"
  },
  "orig_nbformat": 4
 },
 "nbformat": 4,
 "nbformat_minor": 2
}
