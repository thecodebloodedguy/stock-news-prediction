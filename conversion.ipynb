{
 "cells": [
  {
   "cell_type": "code",
   "execution_count": 59,
   "metadata": {},
   "outputs": [],
   "source": [
    "import pandas as pd\n",
    "df=pd.read_csv('nvidia_end_2.csv')\n",
    "\n"
   ]
  },
  {
   "cell_type": "code",
   "execution_count": 60,
   "metadata": {},
   "outputs": [],
   "source": [
    "df.drop(['Unnamed: 0'],axis=1,inplace=True)"
   ]
  },
  {
   "cell_type": "code",
   "execution_count": 61,
   "metadata": {},
   "outputs": [],
   "source": [
    "def dataframe_to_json_list(df):\n",
    "    json_list = df.to_dict(orient=\"records\")\n",
    "    return json_list"
   ]
  },
  {
   "cell_type": "code",
   "execution_count": 62,
   "metadata": {},
   "outputs": [
    {
     "name": "stdout",
     "output_type": "stream",
     "text": [
      "[{'headline': 'Coming to AT&T: Smartbooks, Toys and You Name It', 'Open Feed': 'Moderate'}, {'headline': 'Gaming Goes Lite', 'Open Feed': 'Moderate'}, {'headline': 'A Theater and a Jukebox in a Lightweight Package', 'Open Feed': 'Moderate'}, {'headline': 'Nvidia Finds a Friend in I.B.M.', 'Open Feed': 'Moderate'}, {'headline': 'Shares End Higher, Lifted by Technology and Falling Jobless Claims', 'Open Feed': 'Very Good'}, {'headline': 'Morgan Stanley Is Expected to Be a Focus at Galleon Trial', 'Open Feed': 'Very Good'}, {'headline': 'Morning Take-Out', 'Open Feed': 'Bad'}, {'headline': 'A Tumble for Shares in Technology and Finance', 'Open Feed': 'Moderate'}, {'headline': 'Appeals Court Deals Setback to Crackdown on Insider Trading', 'Open Feed': 'Moderate'}, {'headline': 'Clearer Limits for Insider Trading Prosecutions', 'Open Feed': 'Moderate'}, {'headline': 'The Gift of Inside Information', 'Open Feed': 'Moderate'}, {'headline': 'Delving Into Morass of Insider Trading', 'Open Feed': 'Bad'}, {'headline': 'Technology Companies Drag Stock Markets Down Again', 'Open Feed': 'Moderate'}, {'headline': 'More Than Just a Sell-Off in Tech?: DealBook Briefing', 'Open Feed': 'Bad'}, {'headline': 'Why A.I. and Cryptocurrency Are Making One Type of Computer Chip Scarce', 'Open Feed': 'Very Good'}, {'headline': 'A Brief History of G.E. Asset Sales: DealBook Briefing', 'Open Feed': 'Moderate'}, {'headline': 'What’s Behind Comcast’s Fox Announcement: DealBook Briefing', 'Open Feed': 'Very Good'}, {'headline': 'NXP’s Chief Criticizes China After Qualcomm Deal Collapses', 'Open Feed': 'Very Good'}, {'headline': 'Jerome Powell’s Future', 'Open Feed': 'Very Good'}, {'headline': 'China’s Bullying Is Becoming a Danger to the World and Itself', 'Open Feed': 'Moderate'}, {'headline': 'F.T.C. Sues to Stop Blockbuster Chip Deal Between Nvidia and Arm', 'Open Feed': 'Very Good'}, {'headline': 'A Tale of Redemptions', 'Open Feed': 'Moderate'}, {'headline': 'Is it time for big in-person events again? Organizers are divided.', 'Open Feed': 'Moderate'}, {'headline': 'Was the Market Sell-Off Overdone?', 'Open Feed': 'Very Good'}]\n"
     ]
    }
   ],
   "source": [
    "json_list = dataframe_to_json_list(df)\n",
    "\n",
    "# Print the JSON list\n",
    "print(json_list)"
   ]
  },
  {
   "cell_type": "code",
   "execution_count": 63,
   "metadata": {},
   "outputs": [],
   "source": [
    "import json\n",
    "with open('qme.json','w') as f:\n",
    "    json.dump(json_list,f)"
   ]
  },
  {
   "cell_type": "code",
   "execution_count": 44,
   "metadata": {},
   "outputs": [],
   "source": [
    "import requests \n",
    "import json\n",
    "from datetime import datetime\n",
    "\n",
    "def get_stock_news(symbol):\n",
    "    url = 'https://newsapi.org/v2/everything'\n",
    "    params = {\n",
    "        'q': symbol,\n",
    "        'apiKey': '7aa99ffd0e1a4339b919861f2f63f641'\n",
    "    }\n",
    "\n",
    "    response = requests.get(url, params=params)\n",
    "    data = response.json()\n",
    "\n",
    "    if 'articles' in data:\n",
    "        articles = data['articles'][:2]  # Get the first two articles\n",
    "        selected_articles = []\n",
    "\n",
    "        for idx, article in enumerate(articles):\n",
    "            news_id = idx + 1\n",
    "            description = article['description']\n",
    "            publishedAt = datetime.strptime(article['publishedAt'], \"%Y-%m-%dT%H:%M:%SZ\").strftime(\"%Y-%m-%d\")\n",
    "\n",
    "            selected_articles.append({\n",
    "                'id': news_id,\n",
    "                'description': description,\n",
    "                'publishedAt': publishedAt\n",
    "            })\n",
    "\n",
    "        # Save selected news articles to a file\n",
    "        with open(f'{symbol}_stock_news.json', 'w') as f:\n",
    "            json.dump(selected_articles, f)\n",
    "        return selected_articles\n",
    "    else:\n",
    "        return None\n"
   ]
  },
  {
   "cell_type": "code",
   "execution_count": 47,
   "metadata": {},
   "outputs": [
    {
     "name": "stdout",
     "output_type": "stream",
     "text": [
      "[{'id': 1, 'description': 'Tesla has been accused of exaggerating EV driving range in the past, but it\\'s now facing allegations that it\\'s trying to minimize complaints about performance. Reuterssources claim Tesla had a secret \"Diversion Team\" in the Las Vegas area that aims to cancel …', 'publishedAt': '2023-07-27'}, {'id': 2, 'description': 'Researchers say they have found a hardware exploit with Tesla’s\\r\\n infotainment system that could unlock paid upgrades for free, including Full Self-Driving\\r\\n (FSD) and heated rear seats. They used a technique called voltage glitching, which involves tinkering…', 'publishedAt': '2023-08-03'}]\n"
     ]
    }
   ],
   "source": [
    "print(get_stock_news('Tesla'))"
   ]
  },
  {
   "cell_type": "code",
   "execution_count": null,
   "metadata": {},
   "outputs": [],
   "source": []
  }
 ],
 "metadata": {
  "kernelspec": {
   "display_name": "Python 3",
   "language": "python",
   "name": "python3"
  },
  "language_info": {
   "codemirror_mode": {
    "name": "ipython",
    "version": 3
   },
   "file_extension": ".py",
   "mimetype": "text/x-python",
   "name": "python",
   "nbconvert_exporter": "python",
   "pygments_lexer": "ipython3",
   "version": "3.10.7"
  },
  "orig_nbformat": 4
 },
 "nbformat": 4,
 "nbformat_minor": 2
}
